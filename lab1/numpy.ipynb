{
 "nbformat": 4,
 "nbformat_minor": 0,
 "metadata": {
  "colab": {
   "provenance": []
  },
  "kernelspec": {
   "name": "python3",
   "display_name": "Python 3 (ipykernel)",
   "language": "python"
  },
  "language_info": {
   "name": "python"
  }
 },
 "cells": [
  {
   "cell_type": "markdown",
   "source": [
    "<h1>Импорт библиотек"
   ],
   "metadata": {
    "id": "vC84e9kzyxPy"
   }
  },
  {
   "cell_type": "code",
   "metadata": {
    "id": "cgKeNegmQG5S",
    "ExecuteTime": {
     "end_time": "2025-04-07T16:57:42.620223Z",
     "start_time": "2025-04-07T16:57:40.845379Z"
    }
   },
   "source": [
    "import numpy as np\n",
    "import matplotlib.pyplot as plt\n",
    "from numpy.ma.testutils import assert_array_equal"
   ],
   "outputs": [],
   "execution_count": 2
  },
  {
   "cell_type": "markdown",
   "source": [
    "<h1>Задача 1. Дан набор из $p$ матриц размерностью $(n, n)$ и $p$ векторов размерностью $(n, 1)$, найти сумму произведений матриц на векторы. Написать тесты для кода"
   ],
   "metadata": {
    "id": "qFM9uVU2x4Ls"
   }
  },
  {
   "cell_type": "code",
   "source": [
    "def sum_prod(X, V):\n",
    "    '''\n",
    "    X - матрицы (n, n)\n",
    "    V - векторы (n, 1)\n",
    "    Гарантируется, что len(X) == len(V)\n",
    "    '''\n",
    "    if len(X) == 0 or len(V) == 0:\n",
    "        return np.array([])\n",
    "    \n",
    "    total = np.zeros_like(V[0], dtype=np.float64)\n",
    "    \n",
    "    for mat, vec in zip(X, V):\n",
    "        total += np.dot(mat, vec)\n",
    "    \n",
    "    return total\n",
    "\n",
    "def test_sum_prod():\n",
    "    mat1 = np.array([[1, 2], [3, 4]])\n",
    "    mat2 = np.array([[5, 6], [7, 8]])\n",
    "    vec1 = np.array([[1], [2]])\n",
    "    vec2 = np.array([[3], [4]])\n",
    "    mat3 = np.array([[0.5, 1.5], [2.0, 0.25]])\n",
    "    vec3 = np.array([[1.0], [2.0]])\n",
    "    \n",
    "    assert_array_equal(sum_prod([], []), np.array([]))\n",
    "    \n",
    "    assert_array_equal(sum_prod([mat1], [vec1]), np.array([[5], [11]]))\n",
    "    \n",
    "    expected = np.array([[44], [64]])\n",
    "    assert_array_equal(sum_prod([mat1, mat2], [vec1, vec2]), expected)\n",
    "    \n",
    "    assert_array_equal(sum_prod([mat3], [vec3]), np.array([[3.5], [2.5]]))\n",
    "    \n",
    "    assert_array_equal(sum_prod([np.eye(2)], [vec1]), vec1)\n",
    "    \n",
    "    assert_array_equal(sum_prod([np.zeros((2, 2))], [vec1]), np.zeros((2,1)))\n",
    "    \n",
    "    print(\"Все тесты успешно пройдены\")\n",
    "\n",
    "test_sum_prod()"
   ],
   "metadata": {
    "id": "IAbUvEiYyWFF",
    "ExecuteTime": {
     "end_time": "2025-04-07T16:57:45.707251Z",
     "start_time": "2025-04-07T16:57:45.700628Z"
    }
   },
   "outputs": [
    {
     "name": "stdout",
     "output_type": "stream",
     "text": [
      "Все тесты успешно пройдены\n"
     ]
    }
   ],
   "execution_count": 3
  },
  {
   "cell_type": "markdown",
   "source": [
    "<h1>Задача 2. Дана матрица M, напишите функцию, которая бинаризует матрицу по некоторому threshold (то есть, все значения большие threshold становятся равными 1, иначе 0). Напишите тесты для кода"
   ],
   "metadata": {
    "id": "TKwPG4fIy2w4"
   }
  },
  {
   "cell_type": "code",
   "source": [
    "def binarize(M, threshold=0.5):\n",
    "    return (M > threshold).astype(int)\n",
    "\n",
    "def test_binarize():\n",
    "    mat1 = np.array([[0.5, 1.5], [2.5, 0.5]])\n",
    "    assert_array_equal(binarize(mat1, 1.0), np.array([[0, 1], [1, 0]]))\n",
    "    \n",
    "    mat2 = np.array([[0.99, 1.00, 1.01]])\n",
    "    assert_array_equal(binarize(mat2, 1.0), np.array([[0, 0, 1]]))\n",
    "    \n",
    "    mat3 = np.array([[0.1, 0.2, 0.3]])\n",
    "    assert_array_equal(binarize(mat3, 1.0), np.array([[0, 0, 0]]))\n",
    "    \n",
    "    mat4 = np.array([[2, 3, 4]])\n",
    "    assert_array_equal(binarize(mat4, 1.0), np.array([[1, 1, 1]]))\n",
    "    \n",
    "    mat5 = np.array([[-2, -1, 0], [1, 2, 3]])\n",
    "    assert_array_equal(binarize(mat5, 0.0), np.array([[0, 0, 0], [1, 1, 1]]))\n",
    "    \n",
    "    print(\"Все тесты пройдены\")\n",
    "    \n",
    "test_binarize()"
   ],
   "metadata": {
    "id": "KQDNMgsjRNH7",
    "ExecuteTime": {
     "end_time": "2025-04-02T18:05:24.511242Z",
     "start_time": "2025-04-02T18:05:24.506235Z"
    }
   },
   "outputs": [
    {
     "name": "stdout",
     "output_type": "stream",
     "text": [
      "Все тесты пройдены\n"
     ]
    }
   ],
   "execution_count": 12
  },
  {
   "cell_type": "markdown",
   "source": [
    "<h1>Задача 3. Напишите функцию, которая возвращает уникальные элементы из каждой строки матрицы. Напишите такую же функцию, но для столбцов. Напишите тесты для кода"
   ],
   "metadata": {
    "id": "IY5L-h-7zWhN"
   }
  },
  {
   "cell_type": "code",
   "source": [
    "def unique_rows(mat):\n",
    "    return [np.unique(row) for row in mat]\n",
    "\n",
    "def unique_columns(mat):\n",
    "    return [np.unique(col) for col in mat.T]\n",
    "\n",
    "def test_unique_elements():\n",
    "    mat = np.array([\n",
    "        [1, 2, 1],\n",
    "        [3, 3, 3],\n",
    "        [1, 5, 6]\n",
    "    ])\n",
    "    \n",
    "    row_unique = unique_rows(mat)\n",
    "    assert_array_equal(row_unique[0], [1, 2])\n",
    "    assert_array_equal(row_unique[1], [3])\n",
    "    assert_array_equal(row_unique[2], [1, 5, 6])\n",
    "    \n",
    "    col_unique = unique_columns(mat)\n",
    "    assert_array_equal(col_unique[0], [1, 3])\n",
    "    assert_array_equal(col_unique[1], [2, 3, 5])\n",
    "    assert_array_equal(col_unique[2], [1, 3, 6])\n",
    "    \n",
    "    empty = np.array([]).reshape(0, 0)\n",
    "    assert unique_rows(empty) == []\n",
    "    assert unique_columns(empty) == []\n",
    "    \n",
    "    print(\"Все тесты успешно пройдены\")\n",
    "    \n",
    "test_unique_elements()"
   ],
   "metadata": {
    "id": "-8dEZhR0SBC-",
    "ExecuteTime": {
     "end_time": "2025-04-02T18:05:24.545281Z",
     "start_time": "2025-04-02T18:05:24.537636Z"
    }
   },
   "outputs": [
    {
     "name": "stdout",
     "output_type": "stream",
     "text": [
      "Все тесты успешно пройдены\n"
     ]
    }
   ],
   "execution_count": 13
  },
  {
   "cell_type": "markdown",
   "source": [
    "<h1>Задача 4. Напишите функцию, которая заполняет матрицу с размерами $(m, n)$ случайными числами, распределенными по нормальному закону. Затем считает мат. ожидание и дисперсию для каждого из столбцов и строк, а также строит для каждой строки и столбца гистограмму значений (использовать функцию hist из модуля matplotlib.plot)"
   ],
   "metadata": {
    "id": "roYAlo4Jz-lH"
   }
  },
  {
   "cell_type": "code",
   "source": [
    "def generate_normal_matrix(m, n, mu=0, sigma=1):\n",
    "    return np.random.normal(loc=mu, scale=sigma, size=(m, n))\n",
    "\n",
    "def calculate_row_stats(mat):\n",
    "    return np.mean(mat, axis=0), np.var(mat, axis=0)\n",
    "\n",
    "def calculate_col_stats(mat):\n",
    "    return np.mean(mat, axis=1), np.var(mat, axis=1)\n",
    "\n",
    "def plot_row_histogram(mat, max_rows=10):\n",
    "    plt.figure(figsize=(8, 6))\n",
    "    for i in range(min(mat.shape[0], max_rows)):\n",
    "        plt.hist(mat[i, :], alpha=0.5, bins=20, label=f'Строка {i+1}')\n",
    "    plt.title('Распределение значений по строкам')\n",
    "    plt.xlabel('Значение')\n",
    "    plt.ylabel('Частота')\n",
    "    plt.legend()\n",
    "    plt.show()\n",
    "\n",
    "def plot_col_histogram(mat, max_cols=10):\n",
    "    plt.figure(figsize=(8, 6))\n",
    "    for i in range(min(mat.shape[1], max_cols)):\n",
    "        plt.hist(mat[:, i], alpha=0.5, bins=20, label=f'Столбец {i+1}')\n",
    "    plt.title('Распределение значений по столбцам')\n",
    "    plt.xlabel('Значение')\n",
    "    plt.ylabel('Частота')\n",
    "    plt.legend()\n",
    "    plt.show()\n",
    "    \n",
    "def analyze(m, n, mu=0, sigma=1):\n",
    "    mat = generate_normal_matrix(m, n, mu, sigma)\n",
    "    \n",
    "    row_means, row_vars = calculate_row_stats(mat)\n",
    "    col_means, col_vars = calculate_col_stats(mat)\n",
    "    \n",
    "    plot_row_histogram(mat)\n",
    "    plot_col_histogram(mat)\n",
    "    \n",
    "    return {\n",
    "        'matrix': mat,\n",
    "        'row_means': row_means,\n",
    "        'row_variances': row_vars,\n",
    "        'column_means': col_means,\n",
    "        'column_variances': col_vars\n",
    "    }\n",
    "\n",
    "result = analyze(6, 4)\n",
    "\n",
    "print(result['matrix'])\n",
    "print(result['row_means'])\n",
    "print(result['row_variances'])\n",
    "print(result['column_means'])\n",
    "print(result['column_variances'])"
   ],
   "metadata": {
    "id": "nZK_71hMSQzv",
    "ExecuteTime": {
     "end_time": "2025-04-02T18:06:04.530318Z",
     "start_time": "2025-04-02T18:06:04.291071Z"
    }
   },
   "outputs": [
    {
     "data": {
      "text/plain": [
       "<Figure size 800x600 with 1 Axes>"
      ],
      "image/png": "[encoded data removed]"
     },
     "metadata": {},
     "output_type": "display_data"
    },
    {
     "data": {
      "text/plain": [
       "<Figure size 800x600 with 1 Axes>"
      ],
      "image/png": "[encoded data removed]"
     },
     "metadata": {},
     "output_type": "display_data"
    },
    {
     "name": "stdout",
     "output_type": "stream",
     "text": [
      "[[ 0.48256086 -0.86647199 -0.31124417  0.68829692]\n",
      " [ 0.63735945  0.19549324  1.50730706  0.25817607]\n",
      " [ 0.11031373  0.43796071  0.86577098 -1.08202918]\n",
      " [ 0.74061699  1.62939292 -0.00227312  0.27988247]\n",
      " [ 0.78197651  1.14428978 -0.57583476  1.62705176]\n",
      " [-2.2419629   1.97687534  0.0811097  -0.38891294]]\n",
      "[0.0851441  0.75292333 0.26080595 0.23041085]\n",
      "[1.13236042 0.90863268 0.50807634 0.71159077]\n",
      "[-0.0017146   0.64958395  0.08300406  0.66190481  0.74437082 -0.1432227 ]\n",
      "[0.38856312 0.27380922 0.52419164 0.38232556 0.67085444 2.25255372]\n"
     ]
    }
   ],
   "execution_count": 30
  },
  {
   "cell_type": "markdown",
   "source": [
    "<h1>Задача 5. Напишите функцию, которая заполняет матрицу $(m, n)$ в шахматном порядке заданными числами $a$ и $b$. Напишите тесты для кода"
   ],
   "metadata": {
    "id": "BDyATNdM0dJ2"
   }
  },
  {
   "cell_type": "code",
   "source": [
    "def chess(m, n, a, b):\n",
    "    mat = np.empty((m, n), dtype=type(a))\n",
    "    \n",
    "    mat[::2, ::2] = a\n",
    "    mat[::2, 1::2] = b\n",
    "    mat[1::2, ::2] = b\n",
    "    mat[1::2, 1::2] = a\n",
    "    \n",
    "    return mat\n",
    "\n",
    "def test_chess():\n",
    "    expected1 = np.array([[0, 1],\n",
    "                          [1, 0]])\n",
    "    assert_array_equal(chess(2, 2, 0, 1), expected1)\n",
    "    \n",
    "    expected2 = np.array([[0, 1, 0],\n",
    "                          [1, 0, 1],\n",
    "                          [0, 1, 0]])\n",
    "    assert_array_equal(chess(3, 3, 0, 1), expected2)\n",
    "    \n",
    "    expected3 = np.array([[0, 1, 0],\n",
    "                          [1, 0, 1]])\n",
    "    assert_array_equal(chess(2, 3, 0, 1), expected3)\n",
    "    \n",
    "    expected4 = np.array([[0, 1],\n",
    "                          [1, 0],\n",
    "                          [0, 1]])\n",
    "    assert_array_equal(chess(3, 2, 0, 1), expected4)\n",
    "    \n",
    "    expected5 = np.array([[0.5, 0.8],\n",
    "                          [0.8, 0.5]])\n",
    "    assert_array_equal(chess(2, 2, 0.5, 0.8), expected5)\n",
    "    \n",
    "    print(\"Все тесты пройдены успешно\")\n",
    "    \n",
    "test_chess()"
   ],
   "metadata": {
    "id": "RWNJYWQGecS6",
    "ExecuteTime": {
     "end_time": "2025-04-02T18:05:24.963029Z",
     "start_time": "2025-04-02T18:05:24.957192Z"
    }
   },
   "outputs": [
    {
     "name": "stdout",
     "output_type": "stream",
     "text": [
      "Все тесты пройдены успешно\n"
     ]
    }
   ],
   "execution_count": 15
  },
  {
   "cell_type": "markdown",
   "source": [
    "<h1>Задача 6. Напишите функцию, которая отрисовывает прямоугольник с заданными размерами (a, b) на изображении размера (m, n), цвет фона задайте в схеме RGB, как и цвет прямоугольника. Цвета также должны быть параметрами функции. Напишите аналогичную функцию но для овала с полуосями a и b. Напишите тесты для кода.\n",
    "Примечание: уравнение эллипса (границы овала) можно записать как:\n",
    "<h1>$\\frac{(x-x_0)^2}{a^2}+\\frac{(y-y_0)^2}{b^2}=1$"
   ],
   "metadata": {
    "id": "-ymXLtTN0vB6"
   }
  },
  {
   "cell_type": "code",
   "source": [
    "def draw_rectangle(a, b, m, n, rectangle_color, background_color):\n",
    "    image = np.zeros((m, n, 3), dtype=np.uint8)\n",
    "    image[:] = background_color\n",
    "    \n",
    "    cx, cy = n//2, m//2\n",
    "    \n",
    "    x_start = max(0, cx - a // 2)\n",
    "    x_end = min(n, cx + a // 2 + a % 2)\n",
    "    y_start = max(0, cy - b // 2)\n",
    "    y_end = min(m, cy + b // 2 + b % 2)\n",
    "    \n",
    "    image[y_start:y_end, x_start:x_end] = rectangle_color\n",
    "    \n",
    "    return image\n",
    "    \n",
    "def draw_ellipse(a, b, m, n, ellipse_color, background_color):\n",
    "    image = np.zeros((m, n, 3), dtype=np.uint8)\n",
    "    image[:] = background_color\n",
    "    \n",
    "    y, x = np.ogrid[:m, :n]\n",
    "    cx, cy = n//2, m//2\n",
    "    \n",
    "    mask = ((x - cx)**2 / a**2 + (y- cy)**2 / b**2) <=1\n",
    "    \n",
    "    image[mask] = ellipse_color\n",
    "        \n",
    "    return image\n",
    "\n",
    "def test_draw_func():\n",
    "    rect_img = draw_rectangle(50, 30, 100, 100, (255, 0, 0), (0, 0, 0))\n",
    "    assert rect_img.shape == (100, 100, 3)\n",
    "    assert_array_equal(rect_img[0, 0], [0, 0, 0])\n",
    "    assert_array_equal(rect_img[50, 50], [255, 0, 0])\n",
    "    \n",
    "    ellipse_img = draw_ellipse(40, 20, 100, 100, (0, 255, 0), (255, 255, 255))\n",
    "    assert ellipse_img.shape == (100, 100, 3)\n",
    "    assert_array_equal(ellipse_img[0, 0], [255, 255, 255])\n",
    "    assert_array_equal(ellipse_img[50, 50], [0, 255, 0])\n",
    "    \n",
    "    print(\"Все тесты пройдены успешно\")\n",
    "\n",
    "plt.figure(figsize=(10, 5))\n",
    "\n",
    "plt.subplot(1, 2, 1)\n",
    "plt.imshow(draw_rectangle(60, 40, 100, 140, (255, 0, 0), (200, 200, 200)))\n",
    "plt.title(\"Прямоугольник\")\n",
    "\n",
    "plt.subplot(1, 2, 2)\n",
    "plt.imshow(draw_ellipse(50, 30, 100, 150, (0, 0, 255), (200, 200, 200)))\n",
    "plt.title(\"Эллипс\")\n",
    "\n",
    "plt.show()\n",
    "\n",
    "test_draw_func()"
   ],
   "metadata": {
    "id": "sNfl1t_kfOF4",
    "ExecuteTime": {
     "end_time": "2025-04-02T18:05:42.554923Z",
     "start_time": "2025-04-02T18:05:42.460459Z"
    }
   },
   "outputs": [
    {
     "data": {
      "text/plain": [
       "<Figure size 1000x500 with 2 Axes>"
      ],
      "image/png": "[encoded data removed]"
     },
     "metadata": {},
     "output_type": "display_data"
    },
    {
     "name": "stdout",
     "output_type": "stream",
     "text": [
      "Все тесты пройдены успешно\n"
     ]
    }
   ],
   "execution_count": 21
  },
  {
   "cell_type": "markdown",
   "source": [
    "<h1>Задача 7. Дан некий временной ряд. Для данного ряда нужно найти его: математическое ожидание, дисперсию, СКО, найти все локальные максимумы и минимумы (локальный максимум - это точка, которая больше своих соседних точек, а локальный минимум - это точка, которая меньше своих соседей), а также вычислить для данного ряда другой ряд, получаемый методом скользящего среднего с размером окна $p$.\n",
    "<h1>Примечание: метод скользящего среднего подразумевает нахождение среднего из подмножетсва ряда размером $p$"
   ],
   "metadata": {
    "id": "S82c38oz244H"
   }
  },
  {
   "cell_type": "code",
   "source": [
    "def analyze_time_series(series, window_size):\n",
    "    series = np.array(series)\n",
    "    result = {}\n",
    "    \n",
    "    result['mean'] = np.mean(series)\n",
    "    result['variance'] = np.var(series)\n",
    "    result['std'] = np.std(series)\n",
    "    \n",
    "    local_max = []\n",
    "    local_min = []\n",
    "    \n",
    "    for i in range(1, len(series) - 1):\n",
    "        if series[i] > series[i - 1] and series[i] > series[i + 1]:\n",
    "            local_max.append(i)\n",
    "        elif series[i] < series[i - 1] and series[i] < series[i + 1]:\n",
    "            local_min.append(i)\n",
    "    \n",
    "    result['local_max'] = local_max\n",
    "    result['local_min'] = local_min\n",
    "    \n",
    "    moving_avg = []\n",
    "    \n",
    "    for i in range(len(series) - window_size + 1):\n",
    "        window = series[i:i + window_size]\n",
    "        moving_avg.append(np.mean(window))\n",
    "    \n",
    "    result['moving_avg'] = moving_avg\n",
    "    \n",
    "    return result\n",
    "\n",
    "def test_analyze_time_series():\n",
    "    \n",
    "    test_series = [1, 2, 3, 4, 5]\n",
    "    result = analyze_time_series(test_series, 3)\n",
    "    assert result['mean'] == 3\n",
    "    assert result['variance'] == 2\n",
    "    assert result['std'] == np.sqrt(2)\n",
    "    assert result['moving_avg'] == [2, 3, 4]\n",
    "    \n",
    "    test_series = [1, 3, 2, 4, 1, 5, 0]\n",
    "    result = analyze_time_series(test_series, 3)\n",
    "    assert result['local_max'] == [1, 3, 5]\n",
    "    assert result['local_min'] == [2, 4]\n",
    "    \n",
    "    print(\"Все тесты пройдены успешно\")\n",
    "    \n",
    "test_analyze_time_series()"
   ],
   "metadata": {
    "id": "Zb9mIVge5MMt",
    "ExecuteTime": {
     "end_time": "2025-04-02T18:05:25.107037Z",
     "start_time": "2025-04-02T18:05:25.101179Z"
    }
   },
   "outputs": [
    {
     "name": "stdout",
     "output_type": "stream",
     "text": [
      "Все тесты пройдены успешно\n"
     ]
    }
   ],
   "execution_count": 17
  },
  {
   "cell_type": "markdown",
   "source": [
    "<h1> Задача 8. Дан некоторый вектор с целочисленными метками классов, напишите функцию, которая выполняет one-hot-encoding для данного вектора\n",
    "<h1> One-hot-encoding - представление, в котором на месте метки некоторого класса стоит 1, в остальных позициях стоит 0. Например для вектора [0, 2, 3, 0] one-hot-encoding выглядит как: [[1, 0, 0, 0], [0, 0, 1, 0], [0, 0, 0, 1], [1, 0, 0, 0]]"
   ],
   "metadata": {
    "id": "jPkylmOX5O9n"
   }
  },
  {
   "cell_type": "code",
   "source": [
    "def one_hot_encoding(v):\n",
    "    lab = np.array(v)\n",
    "    num_classes = np.max(lab) + 1\n",
    "    return np.eye(num_classes, dtype=int)[v]\n",
    "\n",
    "def test_one_hot_encoding():\n",
    "    lab1 = [0, 2, 3, 0]\n",
    "    expected1 = np.array([[1, 0, 0, 0],\n",
    "                        [0, 0, 1, 0],\n",
    "                        [0, 0, 0, 1],\n",
    "                        [1, 0, 0, 0]])\n",
    "    assert_array_equal(one_hot_encoding(lab1), expected1)\n",
    "    \n",
    "    lab2 = [1, 3, 2]\n",
    "    expected2 = np.array([[0, 1, 0, 0],\n",
    "                          [0, 0, 0, 1],\n",
    "                          [0, 0, 1, 0]])\n",
    "    assert_array_equal(one_hot_encoding(lab2), expected2)\n",
    "    \n",
    "    lab3 = [0, 0, 0]\n",
    "    expected3 = np.array([[1],\n",
    "                          [1],\n",
    "                          [1]])\n",
    "    assert_array_equal(one_hot_encoding(lab3), expected3)\n",
    "    \n",
    "    print(\"Все тесты пройдены успешно\")\n",
    "    \n",
    "test_one_hot_encoding()"
   ],
   "metadata": {
    "id": "Y-jlnZvw56lD",
    "ExecuteTime": {
     "end_time": "2025-04-02T18:05:25.120863Z",
     "start_time": "2025-04-02T18:05:25.116073Z"
    }
   },
   "outputs": [
    {
     "name": "stdout",
     "output_type": "stream",
     "text": [
      "Все тесты пройдены успешно\n"
     ]
    }
   ],
   "execution_count": 18
  }
 ]
}
