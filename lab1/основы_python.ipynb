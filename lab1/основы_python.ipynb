{
 "nbformat": 4,
 "nbformat_minor": 0,
 "metadata": {
  "colab": {
   "provenance": []
  },
  "kernelspec": {
   "name": "python3",
   "display_name": "Python 3 (ipykernel)",
   "language": "python"
  },
  "language_info": {
   "name": "python"
  }
 },
 "cells": [
  {
   "cell_type": "markdown",
   "source": [
    "# Задача 1\n",
    "Написать функцию на вход которой подается строка, состоящая из латинских букв.\n",
    "Функция должна вернуть количество гласных букв (a, e, i, o, u) в этой строке. Написать тесты для кода"
   ],
   "metadata": {
    "id": "M-DGa20PaHnu"
   }
  },
  {
   "cell_type": "code",
   "source": [
    "def count_vowels(text):\n",
    "    vowels = ['a', 'e', 'i', 'o', 'u']\n",
    "    count = 0\n",
    "    for char in text.lower():\n",
    "        if char in vowels:\n",
    "            count += 1\n",
    "    return count\n",
    "    \n",
    "def test_count_vowels():\n",
    "    # Тест с пустой строкой\n",
    "    assert count_vowels(\"\") == 0\n",
    "    \n",
    "    # Тест без гласных\n",
    "    assert count_vowels(\"xyz\") == 0\n",
    "    assert count_vowels(\"zxcvbn\") == 0\n",
    "    \n",
    "    # Тест с одной гласной\n",
    "    assert count_vowels(\"a\") == 1\n",
    "    assert count_vowels(\"test\") == 1\n",
    "    \n",
    "    # Тест с несколькими гласными\n",
    "    assert count_vowels(\"hello\") == 2\n",
    "    assert count_vowels(\"vowelses\") == 3\n",
    "    \n",
    "    # Тест с заглавными буквами\n",
    "    assert count_vowels(\"AEIOU\") == 5\n",
    "    assert count_vowels(\"TEST\") == 1\n",
    "    \n",
    "    # Тест со всеми гласными\n",
    "    assert count_vowels(\"aeiou\") == 5\n",
    "    \n",
    "    # Тест с повторяющимися гласными\n",
    "    assert count_vowels(\"aaeeiioouu\") == 10\n",
    "    \n",
    "    print(\"Все тесты пройдены успешно\")\n",
    "    \n",
    "test_count_vowels()"
   ],
   "metadata": {
    "id": "XvX8X_JJ6PCb",
    "ExecuteTime": {
     "end_time": "2025-04-02T18:04:17.024581Z",
     "start_time": "2025-04-02T18:04:17.017636Z"
    }
   },
   "outputs": [
    {
     "name": "stdout",
     "output_type": "stream",
     "text": [
      "Все тесты пройдены успешно\n"
     ]
    }
   ],
   "execution_count": 1
  },
  {
   "cell_type": "markdown",
   "source": [
    "# Задача 2\n",
    "Написать функцию на вход, которой подается строка. Функция должна вернуть true, если\n",
    "каждый символ в строке встречается только 1 раз, иначе должна вернуть false. Написать тесты для кода"
   ],
   "metadata": {
    "id": "t2ClV_Y0bbr6"
   }
  },
  {
   "cell_type": "code",
   "source": [
    "def all_unique_char(text):\n",
    "    seen = set()\n",
    "    for char in text:\n",
    "        if char in seen:\n",
    "            return False\n",
    "        seen.add(char)\n",
    "    return True\n",
    "\n",
    "def test_all_unique_char():\n",
    "    assert all_unique_char(\"\")\n",
    "    assert all_unique_char(\"a\")\n",
    "    \n",
    "    assert all_unique_char(\"qwerty\")\n",
    "    assert all_unique_char(\"123 456\")\n",
    "    \n",
    "    assert not all_unique_char(\"hello\")\n",
    "    assert not all_unique_char(\"aab\")\n",
    "    \n",
    "    assert all_unique_char(\"aA\")\n",
    "    assert not all_unique_char(\"!!\")\n",
    "    \n",
    "    print (\"Все тесты пройдены успешно\")\n",
    "    \n",
    "test_all_unique_char()"
   ],
   "metadata": {
    "id": "FppbECao6VIz",
    "ExecuteTime": {
     "end_time": "2025-04-02T18:04:17.246196Z",
     "start_time": "2025-04-02T18:04:17.242861Z"
    }
   },
   "outputs": [
    {
     "name": "stdout",
     "output_type": "stream",
     "text": [
      "Все тесты пройдены успешно\n"
     ]
    }
   ],
   "execution_count": 2
  },
  {
   "cell_type": "markdown",
   "source": [
    "# Задача 3\n",
    "Написать функцию, которая принимает положительное число и возвращает количество\n",
    "бит равных 1 в этом числе. Написать тесты для кода"
   ],
   "metadata": {
    "id": "udRiIK1cdt6E"
   }
  },
  {
   "cell_type": "code",
   "source": [
    "def count_set_bits(n):\n",
    "    if n < 0:\n",
    "        raise ValueError(\"Функция работает только с положительными числами\")\n",
    "    count = 0\n",
    "    while n > 0:\n",
    "        count += n & 1\n",
    "        n >>= 1\n",
    "    return count\n",
    "\n",
    "def test_count_set_bits():\n",
    "    assert count_set_bits(0) == 0\n",
    "    \n",
    "    assert count_set_bits(1) == 1\n",
    "    assert count_set_bits(2) == 1\n",
    "    assert count_set_bits(4) == 1\n",
    "    assert count_set_bits(8) == 1\n",
    "    \n",
    "    assert count_set_bits(3) == 2\n",
    "    assert count_set_bits(5) == 2\n",
    "    assert count_set_bits(7) == 3\n",
    "    assert count_set_bits(15) == 4\n",
    "    \n",
    "    assert count_set_bits(255) == 8\n",
    "    assert count_set_bits(1023) == 10\n",
    "    \n",
    "    try:\n",
    "        count_set_bits(-1)\n",
    "        assert False\n",
    "    except ValueError:\n",
    "        pass\n",
    "    \n",
    "    print(\"Все тесты прошли успешно\")\n",
    "    \n",
    "test_count_set_bits()"
   ],
   "metadata": {
    "id": "6tkfDJRz6dp_",
    "ExecuteTime": {
     "end_time": "2025-04-02T18:04:17.259946Z",
     "start_time": "2025-04-02T18:04:17.254676Z"
    }
   },
   "outputs": [
    {
     "name": "stdout",
     "output_type": "stream",
     "text": [
      "Все тесты прошли успешно\n"
     ]
    }
   ],
   "execution_count": 3
  },
  {
   "cell_type": "markdown",
   "source": [
    "# Задача 4\n",
    "Написать функцию, которая принимает положительное число. Функция должна вернуть то,\n",
    "сколько раз необходимо перемножать цифры числа или результат перемножения, чтобы\n",
    "получилось число состоящее из одной цифры.\n",
    "Например, для входного числа:\n",
    "· 39 функция должна вернуть 3, так как 3*9=27 => 2*7=14 => 1*4=4\n",
    "· 4 функция должна вернуть 0, так как число уже состоит из одной цифры\n",
    "· 999 функция должна вернуть 4, так как 9*9*9=729 => 7*2*9=126 => 1*2*6=12 =>\n",
    "1*2=2. Написать тесты для кода"
   ],
   "metadata": {
    "id": "26dDUz-Ae17N"
   }
  },
  {
   "cell_type": "code",
   "source": [
    "def magic(n):\n",
    "    if n < 0:\n",
    "        raise ValueError(\"Функция работает только с положительными числами\")\n",
    "    \n",
    "    steps = 0\n",
    "    while n >= 10:\n",
    "        product = 1\n",
    "        for digit in str(n):\n",
    "            product *= int(digit)\n",
    "        n = product\n",
    "        steps += 1\n",
    "    return steps\n",
    "\n",
    "def test_magic():\n",
    "    assert magic(4) == 0\n",
    "    \n",
    "    assert magic(39) == 3\n",
    "    \n",
    "    assert magic(999) == 4\n",
    "    \n",
    "    assert magic(1234560) == 1\n",
    "    \n",
    "    assert magic(6788) == 6\n",
    "    \n",
    "    try:\n",
    "        magic(-1)\n",
    "        assert False\n",
    "    except ValueError:\n",
    "        pass\n",
    "    \n",
    "    print(\"Все тесты пройдены успешно\")\n",
    "    \n",
    "test_magic()"
   ],
   "metadata": {
    "id": "BH1A_Mgi6i4G",
    "ExecuteTime": {
     "end_time": "2025-04-02T18:04:17.329592Z",
     "start_time": "2025-04-02T18:04:17.324964Z"
    }
   },
   "outputs": [
    {
     "name": "stdout",
     "output_type": "stream",
     "text": [
      "Все тесты пройдены успешно\n"
     ]
    }
   ],
   "execution_count": 4
  },
  {
   "cell_type": "markdown",
   "source": [
    "# Задача 5\n",
    "Написать функцию, которая принимает два целочисленных вектора одинаковой длины и\n",
    "возвращает среднеквадратическое отклонение двух векторов. Написать тесты для кода"
   ],
   "metadata": {
    "id": "0nS-kIa8g8vd"
   }
  },
  {
   "cell_type": "code",
   "source": [
    "import math\n",
    "\n",
    "def mse(vector1, vector2):\n",
    "    if not vector1 or not vector2:\n",
    "        raise ValueError(\"Векторы не должны быть пустыми\")\n",
    "    if len(vector1) != len(vector2):\n",
    "        raise ValueError(\"Векторы должны быть одной длины\")\n",
    "    \n",
    "    sum = 0.0\n",
    "    \n",
    "    for v1, v2 in zip(vector1, vector2):\n",
    "        sum += (v1 - v2) ** 2\n",
    "    \n",
    "    return sum / len(vector1)\n",
    "\n",
    "def test_mse():\n",
    "    assert mse([1, 2, 3], [1, 2, 3]) == 0.0\n",
    "    \n",
    "    assert mse([1, 2, 3], [2, 3, 4]) == 1.0\n",
    "    \n",
    "    assert mse([0, 0, 0], [1, 1, 1]) == 1.0\n",
    "    \n",
    "    try:\n",
    "        mse([1, 2], [1])\n",
    "        assert False\n",
    "    except ValueError:\n",
    "        pass\n",
    "    \n",
    "    try:\n",
    "        mse([], [])\n",
    "        assert False\n",
    "    except ValueError:\n",
    "        pass\n",
    "    \n",
    "    print(\"Все тесты прошли успешно\")\n",
    "    \n",
    "test_mse()"
   ],
   "metadata": {
    "id": "8iphx4LM6xbx",
    "ExecuteTime": {
     "end_time": "2025-04-02T18:04:17.350879Z",
     "start_time": "2025-04-02T18:04:17.345561Z"
    }
   },
   "outputs": [
    {
     "name": "stdout",
     "output_type": "stream",
     "text": [
      "Все тесты прошли успешно\n"
     ]
    }
   ],
   "execution_count": 5
  },
  {
   "cell_type": "markdown",
   "source": [
    "# Задача 6\n",
    "Написать функцию, принимающая целое положительное число. Функция должна вернуть\n",
    "строку вида “(n1**p1)(n2**p2)…(nk**pk)” представляющая разложение числа на простые\n",
    "множители (если pi == 1, то выводить только ni).\n",
    "Например, для числа 86240 функция должна вернуть “(2**5)(5)(7**2)(11)”. Написать тесты для кода"
   ],
   "metadata": {
    "id": "vpIPKL439zkw"
   }
  },
  {
   "cell_type": "code",
   "source": [
    "def prime_factors(n):\n",
    "    if n < 2:\n",
    "        raise ValueError(\"Число должно быть больше 1\")\n",
    "    factors = {}\n",
    "    \n",
    "    divisor = 2\n",
    "    while n % divisor == 0:\n",
    "        factors[divisor] = factors.get(divisor, 0) + 1\n",
    "        n = n // divisor\n",
    "        \n",
    "    divisor = 3\n",
    "    while divisor * divisor <= n:\n",
    "        while n % divisor == 0:\n",
    "            factors[divisor] = factors.get(divisor, 0) + 1\n",
    "            n = n // divisor\n",
    "        divisor += 2\n",
    "        \n",
    "    if n > 1:\n",
    "        factors[n] = factors.get(n, 0) + 1\n",
    "        \n",
    "    result = []\n",
    "    for prime in sorted(factors.keys()):\n",
    "        power = factors[prime]\n",
    "        if power == 1:\n",
    "            result.append(f\"({prime})\")\n",
    "        else:\n",
    "            result.append(f\"({prime}**{power})\")\n",
    "    \n",
    "    return \"\".join(result)\n",
    "\n",
    "def test_prime_factors():\n",
    "    assert prime_factors(2) == \"(2)\"\n",
    "    assert prime_factors(3) == \"(3)\"\n",
    "    assert prime_factors(11) == \"(11)\"\n",
    "    \n",
    "    assert prime_factors(8) == \"(2**3)\"\n",
    "    assert prime_factors(12) == \"(2**2)(3)\"\n",
    "    assert prime_factors(36) == \"(2**2)(3**2)\"\n",
    "    \n",
    "    assert prime_factors(86240) == \"(2**5)(5)(7**2)(11)\"\n",
    "    \n",
    "    assert prime_factors(123456) == \"(2**6)(3)(643)\"\n",
    "    assert prime_factors(999999) == \"(3**3)(7)(11)(13)(37)\"\n",
    "    \n",
    "    try:\n",
    "        prime_factors(1)\n",
    "        assert False\n",
    "    except ValueError:\n",
    "        pass\n",
    "    \n",
    "    try:\n",
    "        prime_factors(0)\n",
    "        assert False\n",
    "    except ValueError:\n",
    "        pass\n",
    "    \n",
    "    try:\n",
    "        prime_factors(-1)\n",
    "        assert False\n",
    "    except ValueError:\n",
    "        pass\n",
    "    \n",
    "    print(\"Все тесты пройдены\")\n",
    "    \n",
    "test_prime_factors()"
   ],
   "metadata": {
    "id": "pFebmcZk94Jw",
    "ExecuteTime": {
     "end_time": "2025-04-02T18:04:17.376970Z",
     "start_time": "2025-04-02T18:04:17.369792Z"
    }
   },
   "outputs": [
    {
     "name": "stdout",
     "output_type": "stream",
     "text": [
      "Все тесты пройдены\n"
     ]
    }
   ],
   "execution_count": 6
  },
  {
   "cell_type": "markdown",
   "source": [
    "# Задача 7\n",
    "Написать функцию, принимающая целое число n, задающее количество кубиков. Функция\n",
    "должна определить, можно ли из данного кол-ва кубиков построить пирамиду, то есть\n",
    "можно ли представить число n как 1^2+2^2+3^2+…+k^2. Если можно, то функция должна\n",
    "вернуть k, иначе строку “It is impossible”. Написать тесты для кода"
   ],
   "metadata": {
    "id": "ps2s0BudX7A2"
   }
  },
  {
   "cell_type": "code",
   "source": [
    "def pyramid(n):\n",
    "    if n < 1:\n",
    "        return \"It is impossible\"\n",
    "    \n",
    "    k = 1\n",
    "    total = 0\n",
    "    while True:\n",
    "        total += k**2\n",
    "        if total == n:\n",
    "            return k\n",
    "        if total > n:\n",
    "            return \"It is impossible\"\n",
    "        k +=1\n",
    "        \n",
    "def test_pyramid():\n",
    "    assert pyramid(1) == 1\n",
    "    assert pyramid(5) == 2\n",
    "    assert pyramid(14) == 3\n",
    "    assert pyramid(30) == 4\n",
    "    assert pyramid(55) == 5\n",
    "    \n",
    "    assert pyramid(2) == \"It is impossible\"\n",
    "    assert pyramid(10) == \"It is impossible\"\n",
    "    assert pyramid(20) == \"It is impossible\"\n",
    "    \n",
    "    assert pyramid(0) == \"It is impossible\"\n",
    "    assert pyramid(-5) == \"It is impossible\"\n",
    "    \n",
    "    print(\"Все тесты прошли успешно\")\n",
    "    \n",
    "test_pyramid()"
   ],
   "metadata": {
    "id": "3YPjEXxhX_YT",
    "ExecuteTime": {
     "end_time": "2025-04-02T18:04:17.408150Z",
     "start_time": "2025-04-02T18:04:17.403591Z"
    }
   },
   "outputs": [
    {
     "name": "stdout",
     "output_type": "stream",
     "text": [
      "Все тесты прошли успешно\n"
     ]
    }
   ],
   "execution_count": 7
  },
  {
   "cell_type": "markdown",
   "source": [
    "# Задача 8\n",
    "Функция принимает на вход положительное число и определяет является ли оно сбалансированным, т.е. сумма цифр до средних равна сумме цифр после. Средними в случае нечетного числа цифр считать одну цифру, в случае четного - две средних. Написать тесты для кода"
   ],
   "metadata": {
    "id": "KeKgmIdAQMEJ"
   }
  },
  {
   "cell_type": "code",
   "source": [
    "def is_balanced_number(n):\n",
    "    if n < 1:\n",
    "        raise ValueError(\"Число должно быть положительным\")\n",
    "    \n",
    "    digits = [int(d) for d in str(n)]\n",
    "    length = len(digits)\n",
    "    \n",
    "    if length == 1:\n",
    "        return True\n",
    "    \n",
    "    half = length // 2\n",
    "    if length % 2 == 0:\n",
    "        left_sum = sum(digits[:half - 1])\n",
    "        right_sum = sum(digits[half + 1:])\n",
    "    else: \n",
    "        left_sum = sum(digits[:half])\n",
    "        right_sum = sum(digits[half + 1:])\n",
    "        \n",
    "    return left_sum == right_sum\n",
    "\n",
    "def test_is_balanced_number():\n",
    "    assert is_balanced_number(1) == True\n",
    "    \n",
    "    assert is_balanced_number(12321) == True\n",
    "    assert is_balanced_number(432154321) == True\n",
    "    \n",
    "    assert is_balanced_number(1234560) == False\n",
    "    assert is_balanced_number(6788) == False\n",
    "    \n",
    "    try:\n",
    "        is_balanced_number(0)\n",
    "        assert False\n",
    "    except ValueError:\n",
    "        pass\n",
    "    \n",
    "    try:\n",
    "        is_balanced_number(-1)\n",
    "        assert False\n",
    "    except ValueError:\n",
    "        pass\n",
    "    \n",
    "    print(\"Все тесты пройдены успешно\")\n",
    "    \n",
    "test_is_balanced_number()"
   ],
   "metadata": {
    "id": "gMAAqtqlQrZt",
    "ExecuteTime": {
     "end_time": "2025-04-02T18:04:17.429248Z",
     "start_time": "2025-04-02T18:04:17.425083Z"
    }
   },
   "outputs": [
    {
     "name": "stdout",
     "output_type": "stream",
     "text": [
      "Все тесты пройдены успешно\n"
     ]
    }
   ],
   "execution_count": 8
  }
 ]
}
